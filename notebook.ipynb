{
  "metadata": {
    "kernelspec": {
      "name": "xpython",
      "display_name": "Python 3.13 (XPython)",
      "language": "python"
    },
    "language_info": {
      "file_extension": ".py",
      "mimetype": "text/x-python",
      "name": "python",
      "version": "3.13.1"
    }
  },
  "nbformat_minor": 5,
  "nbformat": 4,
  "cells": [
    {
      "id": "f2b4911a-d8d6-4a97-ae7c-d9ef2948ba98",
      "cell_type": "code",
      "source": "# Data Science Tools and Ecosystem",
      "metadata": {
        "trusted": true
      },
      "outputs": [],
      "execution_count": 1
    },
    {
      "id": "620fefc6-5166-437d-8db2-9a4c4da165b3",
      "cell_type": "code",
      "source": "# Data Science Tools and Ecosystem",
      "metadata": {
        "trusted": true
      },
      "outputs": [],
      "execution_count": 2
    },
    {
      "id": "cc671e3b-1af3-455c-a985-a4925b9db824",
      "cell_type": "markdown",
      "source": "In this notebook, Data Science Tools and Ecosystem are summarized.",
      "metadata": {}
    },
    {
      "id": "561109e7-a987-4aa0-af65-d50a7e927bff",
      "cell_type": "markdown",
      "source": "Some of the popular languages that Data Scientists use are:\n\n1. Python  \n2. R  \n3. SQL  \n4. Julia  \n",
      "metadata": {}
    },
    {
      "id": "a3dbbb7b-295e-4fc1-bdbc-52a19009f8e5",
      "cell_type": "markdown",
      "source": "Some of the commonly used libraries used by Data Scientists include:\n\n1. Pandas  \n2. NumPy  \n3. Matplotlib  \n4. Scikit-learn  \n5. TensorFlow  \n",
      "metadata": {}
    },
    {
      "id": "a2ba3f36-29bb-44f1-a0bc-89dd4fcb66d9",
      "cell_type": "markdown",
      "source": "| Data Science Tools    |\n|-----------------------|\n| Jupyter Notebook      |\n| RStudio               |\n| Apache Zeppelin       |\n",
      "metadata": {}
    },
    {
      "id": "3ea86ade-86f2-420b-b0ac-eab54754efd4",
      "cell_type": "markdown",
      "source": "### Below are a few examples of evaluating arithmetic expressions in Python\n",
      "metadata": {}
    },
    {
      "id": "75f3ce86-59ec-438c-984a-73e3fbb865f4",
      "cell_type": "code",
      "source": "# This is a simple arithmetic expression to multiply then add integers\n(3 * 4) + 5\n",
      "metadata": {
        "trusted": true
      },
      "outputs": [
        {
          "execution_count": 3,
          "output_type": "execute_result",
          "data": {
            "text/plain": "17"
          },
          "metadata": {}
        }
      ],
      "execution_count": 3
    },
    {
      "id": "757f40a1-29a1-44c4-92b9-b5ba2483fa29",
      "cell_type": "code",
      "source": "# This will convert 200 minutes to hours by dividing by 60\n200 / 60\n",
      "metadata": {
        "trusted": true
      },
      "outputs": [
        {
          "execution_count": 4,
          "output_type": "execute_result",
          "data": {
            "text/plain": "3.3333333333333335"
          },
          "metadata": {}
        }
      ],
      "execution_count": 4
    },
    {
      "id": "df40b87a-5fcc-4fba-850a-aeac64f4b595",
      "cell_type": "markdown",
      "source": "### Objectives:\n- List popular languages for Data Science  \n- List commonly used libraries in Data Science  \n- Create tables using markdown  \n- Perform basic arithmetic operations  \n",
      "metadata": {}
    },
    {
      "id": "d879c56a-e6ae-4fd9-8ee9-22049eff9fc1",
      "cell_type": "code",
      "source": "",
      "metadata": {
        "trusted": true
      },
      "outputs": [],
      "execution_count": null
    }
  ]
}