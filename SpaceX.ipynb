{
 "cells": [
  {
   "cell_type": "code",
   "execution_count": 2,
   "id": "d03a93ef-ddd0-4012-82af-dda15d968654",
   "metadata": {},
   "outputs": [
    {
     "name": "stdout",
     "output_type": "stream",
     "text": [
      "Columns in dataset: ['Flight Number,Launch Date,Launch Time,Launch Site,Vehicle Type,Payload Name,Payload Type,Payload Mass (kg),Payload Orbit,Customer Name,Customer Type,Customer Country,Mission Outcome,Failure Reason,Landing Type,Landing Outcome']\n",
      "🚨 Column 'Orbit' not found in the dataset!\n",
      "Number of successful drone ship landings: 0\n"
     ]
    },
    {
     "name": "stderr",
     "output_type": "stream",
     "text": [
      "C:\\Users\\X1 CARBON TOUCH\\AppData\\Local\\Temp\\ipykernel_8820\\817507148.py:22: UserWarning: This pattern is interpreted as a regular expression, and has match groups. To actually get the groups, use str.extract.\n",
      "  drone_landing_success = df[df[landing_col[0]].str.contains(\"Success (drone ship)\", na=False)]\n"
     ]
    }
   ],
   "source": [
    "import pandas as pd\n",
    "\n",
    "# Load the dataset\n",
    "df = pd.read_csv(r\"C:\\Users\\X1 CARBON TOUCH\\Desktop\\Introduction to Data Science with Jupyter Notebook\\spacex.csv\")\n",
    "\n",
    "# Clean column names\n",
    "df.columns = df.columns.str.strip()\n",
    "\n",
    "# Display column names to debug\n",
    "print(\"Columns in dataset:\", df.columns.tolist())\n",
    "\n",
    "# Question 3: How many launches went to geosynchronous orbit?\n",
    "if 'Orbit' in df.columns:\n",
    "    geo_launches = df[df['Orbit'].str.contains('GEO', case=False, na=False)]\n",
    "    print(\"Number of launches to geosynchronous orbit:\", len(geo_launches))\n",
    "else:\n",
    "    print(\"🚨 Column 'Orbit' not found in the dataset!\")\n",
    "\n",
    "# Question 4: How many missions landed on a drone ship?\n",
    "landing_col = [col for col in df.columns if 'Landing' in col]\n",
    "if landing_col:\n",
    "    drone_landing_success = df[df[landing_col[0]].str.contains(\"Success (drone ship)\", na=False)]\n",
    "    print(\"Number of successful drone ship landings:\", len(drone_landing_success))\n",
    "else:\n",
    "    print(\"🚨 Landing outcome column not found in the dataset!\")"
   ]
  },
  {
   "cell_type": "code",
   "execution_count": 4,
   "id": "bb15953a-43fa-4c54-a8a9-eeb066a17f6d",
   "metadata": {},
   "outputs": [
    {
     "name": "stdout",
     "output_type": "stream",
     "text": [
      "Launches to GTO orbit (up to 2020): 36\n",
      "Successful ASDS landings (up to 2020): 48\n"
     ]
    }
   ],
   "source": [
    "import requests\n",
    "import pandas as pd\n",
    "from datetime import datetime\n",
    "\n",
    "# Get past launches and payloads\n",
    "launches_url = \"https://api.spacexdata.com/v4/launches/past\"\n",
    "payloads_url = \"https://api.spacexdata.com/v4/payloads\"\n",
    "\n",
    "# API calls\n",
    "launches = requests.get(launches_url).json()\n",
    "payloads = requests.get(payloads_url).json()\n",
    "\n",
    "# Filter launches up to 2020 only\n",
    "filtered_launches = [\n",
    "    launch for launch in launches\n",
    "    if datetime.strptime(launch['date_utc'], '%Y-%m-%dT%H:%M:%S.%fZ').year <= 2020\n",
    "]\n",
    "\n",
    "# --------- Question 3: GTO Orbit Launches ---------\n",
    "# Collect payload IDs from filtered launches\n",
    "payload_ids = []\n",
    "for launch in filtered_launches:\n",
    "    payload_ids.extend(launch['payloads'])\n",
    "\n",
    "# Convert payloads to DataFrame\n",
    "payload_df = pd.json_normalize(payloads)\n",
    "\n",
    "# Filter to only payloads used in filtered launches\n",
    "filtered_payload_df = payload_df[payload_df['id'].isin(payload_ids)]\n",
    "\n",
    "# Count how many are GTO orbit\n",
    "gto_count = filtered_payload_df[filtered_payload_df['orbit'] == 'GTO']['id'].nunique()\n",
    "\n",
    "# --------- Question 4: Successful ASDS Landings ---------\n",
    "successful_drone_landings = 0\n",
    "for launch in filtered_launches:\n",
    "    for core in launch['cores']:\n",
    "        if core['landing_type'] == 'ASDS' and core['landing_success'] == True:\n",
    "            successful_drone_landings += 1\n",
    "\n",
    "# Output results\n",
    "print(\"Launches to GTO orbit (up to 2020):\", gto_count)\n",
    "print(\"Successful ASDS landings (up to 2020):\", successful_drone_landings)"
   ]
  },
  {
   "cell_type": "code",
   "execution_count": null,
   "id": "aa2db5a2-f568-4fa8-91d0-00ba0c837f59",
   "metadata": {},
   "outputs": [],
   "source": []
  }
 ],
 "metadata": {
  "kernelspec": {
   "display_name": "Python 3 (ipykernel)",
   "language": "python",
   "name": "python3"
  },
  "language_info": {
   "codemirror_mode": {
    "name": "ipython",
    "version": 3
   },
   "file_extension": ".py",
   "mimetype": "text/x-python",
   "name": "python",
   "nbconvert_exporter": "python",
   "pygments_lexer": "ipython3",
   "version": "3.12.4"
  }
 },
 "nbformat": 4,
 "nbformat_minor": 5
}
